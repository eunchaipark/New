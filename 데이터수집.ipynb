{
  "nbformat": 4,
  "nbformat_minor": 0,
  "metadata": {
    "colab": {
      "provenance": [],
      "mount_file_id": "1ifMTCpk_iw-L0QwIHV96F0-CjkonHfH7",
      "authorship_tag": "ABX9TyPgab6UZNWSzieeW0EavXMH",
      "include_colab_link": true
    },
    "kernelspec": {
      "name": "python3",
      "display_name": "Python 3"
    },
    "language_info": {
      "name": "python"
    }
  },
  "cells": [
    {
      "cell_type": "markdown",
      "metadata": {
        "id": "view-in-github",
        "colab_type": "text"
      },
      "source": [
        "<a href=\"https://colab.research.google.com/github/eunchaipark/New/blob/main/%EB%8D%B0%EC%9D%B4%ED%84%B0%EC%88%98%EC%A7%91.ipynb\" target=\"_parent\"><img src=\"https://colab.research.google.com/assets/colab-badge.svg\" alt=\"Open In Colab\"/></a>"
      ]
    },
    {
      "cell_type": "code",
      "execution_count": 7,
      "metadata": {
        "colab": {
          "base_uri": "https://localhost:8080/"
        },
        "id": "YXOYCuWkqT-9",
        "outputId": "6785d929-c6d9-4c48-cbdf-7fa9689e8a8c"
      },
      "outputs": [
        {
          "output_type": "stream",
          "name": "stdout",
          "text": [
            "데이터셋이 성공적으로 로드되었습니다.\n",
            "데이터프레임의 첫 5개 행:\n",
            "  범죄별  월별       항목 단위   2014 년   2015 년   2016 년     2017 년     2018 년  \\\n",
            "0   계   계  범죄발생[건]  건  1933835  2020731  2008290  1824876.0  1738190.0   \n",
            "1   계  1월  범죄발생[건]  건   152390   165532   159309   151346.0   140331.0   \n",
            "2   계  2월  범죄발생[건]  건   128674   137680   141928   136882.0   120642.0   \n",
            "3   계  3월  범죄발생[건]  건   173751   173672   178129   165281.0   148840.0   \n",
            "4   계  4월  범죄발생[건]  건   163656   172336   178759   160629.0   148661.0   \n",
            "\n",
            "    2019 년   2020 년   2021 년   2022 년  Unnamed: 13  \n",
            "0  1767684  1714579  1531705  1575007          NaN  \n",
            "1   142451   141057   123663   117973          NaN  \n",
            "2   118904   128756   111342   104215          NaN  \n",
            "3   150702   144857   140066   130050          NaN  \n",
            "4   151145   143223   135494   137608          NaN  \n"
          ]
        }
      ],
      "source": [
        "import pandas as pd\n",
        "\n",
        "def load_csv_to_dataframe(file_path, encoding='euc-kr'):\n",
        "    \"\"\"\n",
        "    CSV 파일을 읽어서 DataFrame으로 반환하는 함수.\n",
        "\n",
        "    Args:\n",
        "        file_path (str): CSV 파일 경로.\n",
        "        encoding (str): 파일 인코딩 형식. 기본값은 'euc-kr'.\n",
        "\n",
        "    Returns:\n",
        "        pd.DataFrame: 데이터셋이 담긴 DataFrame.\n",
        "    \"\"\"\n",
        "    try:\n",
        "        # CSV 파일 읽기\n",
        "        df = pd.read_csv(file_path, encoding=encoding)\n",
        "        print(\"데이터셋이 성공적으로 로드되었습니다.\")\n",
        "        return df\n",
        "    except FileNotFoundError:\n",
        "        print(\"파일을 찾을 수 없습니다. 경로를 확인하세요.\")\n",
        "    except pd.errors.EmptyDataError:\n",
        "        print(\"CSV 파일이 비어 있습니다.\")\n",
        "    except UnicodeDecodeError as e:\n",
        "        print(f\"인코딩 문제 발생: {e}. 올바른 인코딩을 확인하세요.\")\n",
        "    except Exception as e:\n",
        "        print(f\"오류 발생: {e}\")\n",
        "    return None\n",
        "\n",
        "# 사용 예시\n",
        "file_path = \"/content/drive/MyDrive/개인프로젝트/범죄데이터셋.csv\"\n",
        "df = load_csv_to_dataframe(file_path)\n",
        "\n",
        "if df is not None:\n",
        "    print(\"데이터프레임의 첫 5개 행:\")\n",
        "    print(df.head())\n"
      ]
    },
    {
      "cell_type": "code",
      "source": [
        "df.columns.to_list()"
      ],
      "metadata": {
        "colab": {
          "base_uri": "https://localhost:8080/"
        },
        "id": "xawXJZ4cP4eJ",
        "outputId": "4899d7dc-b65b-4dd9-b1b8-dc735eef426c"
      },
      "execution_count": 12,
      "outputs": [
        {
          "output_type": "execute_result",
          "data": {
            "text/plain": [
              "['범죄별',\n",
              " '월별',\n",
              " '항목',\n",
              " '단위',\n",
              " '2014 년',\n",
              " '2015 년',\n",
              " '2016 년',\n",
              " '2017 년',\n",
              " '2018 년',\n",
              " '2019 년',\n",
              " '2020 년',\n",
              " '2021 년',\n",
              " '2022 년',\n",
              " 'Unnamed: 13']"
            ]
          },
          "metadata": {},
          "execution_count": 12
        }
      ]
    },
    {
      "cell_type": "code",
      "source": [
        "# '범죄별' 컬럼 드랍\n",
        "df = df.drop(columns=['단위','항목','Unnamed: 13'])\n",
        "\n",
        "# 결과 출력\n",
        "print(\"컬럼 드랍 후 데이터프레임:\")\n",
        "print(df.head())\n"
      ],
      "metadata": {
        "colab": {
          "base_uri": "https://localhost:8080/"
        },
        "id": "8H1npf3vz0Ni",
        "outputId": "e58f44a6-9d0d-4df0-c4e8-9f37790a0a53"
      },
      "execution_count": 15,
      "outputs": [
        {
          "output_type": "stream",
          "name": "stdout",
          "text": [
            "컬럼 드랍 후 데이터프레임:\n",
            "   월별   2014 년   2015 년   2016 년     2017 년     2018 년   2019 년   2020 년  \\\n",
            "0   계  1933835  2020731  2008290  1824876.0  1738190.0  1767684  1714579   \n",
            "1  1월   152390   165532   159309   151346.0   140331.0   142451   141057   \n",
            "2  2월   128674   137680   141928   136882.0   120642.0   118904   128756   \n",
            "3  3월   173751   173672   178129   165281.0   148840.0   150702   144857   \n",
            "4  4월   163656   172336   178759   160629.0   148661.0   151145   143223   \n",
            "\n",
            "    2021 년   2022 년  \n",
            "0  1531705  1575007  \n",
            "1   123663   117973  \n",
            "2   111342   104215  \n",
            "3   140066   130050  \n",
            "4   135494   137608  \n"
          ]
        }
      ]
    },
    {
      "cell_type": "code",
      "source": [
        "# df를 '범죄데이터_DF.csv' 파일로 저장\n",
        "df.to_csv('/content/drive/MyDrive/개인프로젝트/범죄데이터_DF.csv', index=False)\n",
        "\n",
        "print(\"데이터프레임이 '범죄데이터_DF.csv'로 저장되었습니다.\")\n"
      ],
      "metadata": {
        "id": "URVDoRZPvRaq",
        "outputId": "c5104d5b-3408-4514-9470-b559864546e4",
        "colab": {
          "base_uri": "https://localhost:8080/"
        }
      },
      "execution_count": 16,
      "outputs": [
        {
          "output_type": "stream",
          "name": "stdout",
          "text": [
            "데이터프레임이 '범죄데이터_DF.csv'로 저장되었습니다.\n"
          ]
        }
      ]
    },
    {
      "cell_type": "code",
      "source": [
        "import pandas as pd\n",
        "\n",
        "def load_csv_to_dataframe(file_path, encoding='euc-kr'):\n",
        "    \"\"\"\n",
        "    CSV 파일을 읽어서 DataFrame으로 반환하는 함수.\n",
        "\n",
        "    Args:\n",
        "        file_path (str): CSV 파일 경로.\n",
        "        encoding (str): 파일 인코딩 형식. 기본값은 'euc-kr'.\n",
        "\n",
        "    Returns:\n",
        "        pd.DataFrame: 데이터셋이 담긴 DataFrame.\n",
        "    \"\"\"\n",
        "    try:\n",
        "        # CSV 파일 읽기\n",
        "        df = pd.read_csv(file_path, encoding=encoding)\n",
        "        print(\"데이터셋이 성공적으로 로드되었습니다.\")\n",
        "        return df\n",
        "    except FileNotFoundError:\n",
        "        print(\"파일을 찾을 수 없습니다. 경로를 확인하세요.\")\n",
        "    except pd.errors.EmptyDataError:\n",
        "        print(\"CSV 파일이 비어 있습니다.\")\n",
        "    except UnicodeDecodeError as e:\n",
        "        print(f\"인코딩 문제 발생: {e}. 올바른 인코딩을 확인하세요.\")\n",
        "    except Exception as e:\n",
        "        print(f\"오류 발생: {e}\")\n",
        "    return None\n",
        "\n",
        "# 사용 예시\n",
        "file_path = \"/content/drive/MyDrive/개인프로젝트/범죄발생_요일_20250121164709.csv\"\n",
        "df = load_csv_to_dataframe(file_path)\n",
        "\n",
        "if df is not None:\n",
        "    print(\"데이터프레임의 첫 5개 행:\")\n",
        "    print(df.head())\n"
      ],
      "metadata": {
        "colab": {
          "base_uri": "https://localhost:8080/"
        },
        "id": "pOQ0LtVK2H7z",
        "outputId": "b789f55b-0113-4b6f-a04a-588149e3d988"
      },
      "execution_count": 20,
      "outputs": [
        {
          "output_type": "stream",
          "name": "stdout",
          "text": [
            "데이터셋이 성공적으로 로드되었습니다.\n",
            "데이터프레임의 첫 5개 행:\n",
            "   범죄별(1)     2014  2014.1  2014.2  2014.3  2014.4  2014.5  2014.6  2014.7  \\\n",
            "0  범죄별(1)       합계       일       월       화       수       목       금       토   \n",
            "1      합계  1204049  164656  158675  168260  168137  168951  181581  188144   \n",
            "2      절도   266784   36895   35699   36970   36689   36805   40471   42693   \n",
            "3      장물     3668     434     644     575     518     482     464     483   \n",
            "4      손괴    58194    8446    7469    7759    7899    7914    8858    9652   \n",
            "\n",
            "  2014.8  ...  2021.6  2021.7    2022  2022.1  2022.2  2022.3  2022.4  2022.5  \\\n",
            "0     미상  ...       금       토      합계       일       월       화       수       목   \n",
            "1   5645  ...  119794  119929  762858  105366  103169  105538  106898  107885   \n",
            "2    562  ...   25275   24946  182720   23703   25267   25504   26255   26203   \n",
            "3     68  ...      45      40     256      37      46      33      29      36   \n",
            "4    197  ...    8134    8634   56832    8274    7752    7643    7710    7706   \n",
            "\n",
            "   2022.6  2022.7  \n",
            "0       금       토  \n",
            "1  115752  118250  \n",
            "2   28219   27569  \n",
            "3      46      29  \n",
            "4    8563    9184  \n",
            "\n",
            "[5 rows x 74 columns]\n"
          ]
        }
      ]
    },
    {
      "cell_type": "code",
      "source": [
        "df.to_csv('/content/drive/MyDrive/개인프로젝트/범죄요일데이터_DF.csv', index=False)\n",
        "\n",
        "print(\"데이터프레임이 '범죄요일데이터_DF.csv'로 저장되었습니다.\")\n"
      ],
      "metadata": {
        "colab": {
          "base_uri": "https://localhost:8080/"
        },
        "id": "lcSc1jJJ2Sg7",
        "outputId": "3270f77c-eca7-4383-e0ad-2557abc9926a"
      },
      "execution_count": 22,
      "outputs": [
        {
          "output_type": "stream",
          "name": "stdout",
          "text": [
            "데이터프레임이 '범죄요일데이터_DF.csv'로 저장되었습니다.\n"
          ]
        }
      ]
    }
  ]
}